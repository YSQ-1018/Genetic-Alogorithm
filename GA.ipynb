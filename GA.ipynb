{
 "cells": [
  {
   "cell_type": "markdown",
   "metadata": {},
   "source": [
    "# 遗传算法求解无约束优化问题"
   ]
  },
  {
   "cell_type": "code",
   "execution_count": 1,
   "metadata": {
    "ExecuteTime": {
     "end_time": "2021-05-11T14:21:19.481276Z",
     "start_time": "2021-05-11T14:21:19.324874Z"
    }
   },
   "outputs": [],
   "source": [
    "import numpy as np\n",
    "import random #种群初始化\n",
    "import math\n",
    "import matplotlib.pyplot as plt#绘图"
   ]
  },
  {
   "cell_type": "markdown",
   "metadata": {},
   "source": [
    "## 优化问题：\n",
    "\\begin{equation}\n",
    "max \\ \\ f(x_1,x_2) = 21.5+x_1 \\times sin(4 \\pi x_1)+x_2 \\times sin(20 \\pi x_2) \\\\\n",
    "s.t. -2.9 \\leq x_1 \\leq 12.0 \\\\\n",
    " 4.2 \\leq x_2 \\leq 5.7    \n",
    "\\label{eq:optimization_problem}\n",
    "\\end{equation}"
   ]
  },
  {
   "cell_type": "markdown",
   "metadata": {},
   "source": [
    "## 使用二进制编码\n",
    "- 精确到小数点后5位\n",
    "- 计算变量 x1,x2所需要的比特位\n",
    "\\begin{equation}\n",
    "m_j = \\lceil \\log_2(b_j-a_j) \\times 10^5 \\rceil \\\\\n",
    "j \\in {1,2} \\\\\n",
    "此处 b_j是第j个变量可以取到的最大值,a_j为第j个变量可以取到的最小值\n",
    "\\end{equation}"
   ]
  },
  {
   "cell_type": "code",
   "execution_count": 2,
   "metadata": {
    "ExecuteTime": {
     "end_time": "2021-05-11T14:21:19.484582Z",
     "start_time": "2021-05-11T14:21:19.482388Z"
    }
   },
   "outputs": [],
   "source": [
    "#计算比特位的匿名函数\n",
    "lenth = lambda bj,aj : math.ceil(math.log2((bj-aj)*10**5))\n",
    "len1 = lenth(12.0,-2.9)#x1所需要的二进制编码长度\n",
    "len2 = lenth(5.7,4.2)#x2需要的二进制编码长度"
   ]
  },
  {
   "cell_type": "markdown",
   "metadata": {
    "ExecuteTime": {
     "end_time": "2021-05-11T08:47:57.092605Z",
     "start_time": "2021-05-11T08:47:57.080782Z"
    }
   },
   "source": [
    "## 遗传算法"
   ]
  },
  {
   "cell_type": "code",
   "execution_count": 3,
   "metadata": {
    "ExecuteTime": {
     "end_time": "2021-05-11T14:21:20.618300Z",
     "start_time": "2021-05-11T14:21:19.485712Z"
    }
   },
   "outputs": [],
   "source": [
    "class GeneticAgorithm:\n",
    "    \"\"\"\n",
    "        用于求解本例中无约束优化问题的遗传算法结构体\n",
    "    \"\"\"\n",
    "    def __init__(self,len1,len2,pc,pm):\n",
    "        \"\"\"\n",
    "            初始化方法\n",
    "            \n",
    "            参数说明:\n",
    "            -------------------------\n",
    "            len1 : 变量1的二进制编码长度，该信息用于解码\n",
    "            len2 : 变量2的二进制编码长度\n",
    "            pc : probability of crossover 交叉概率\n",
    "            pm : probability of mutation 变异概率\n",
    "            -------------------------\n",
    "            初始化方法将完成种群初始化的任务\n",
    "        \"\"\"\n",
    "        self.len1 = len1\n",
    "        self.len2 = len2\n",
    "        self.pc = pc\n",
    "        self.pm = pm\n",
    "        #产生初始种群\n",
    "        self.popsize = 200 #初始种群数量，可修改\n",
    "        self.population = np.random.randint(0,2,(self.popsize,self.len1+self.len2))\n",
    "        #产生 popsize * (len1+len2)的0/1随机矩阵，每个行向量代表一个个体\n",
    "        \n",
    "        self.a = [-2.9,4.2]#储存优化问题中两个变量的最小值的列表 ,后续用于解码操作\n",
    "        self.b = [12.0,5.7]#储存优化问题中两个变量的最大值的列表\n",
    "        \n",
    "        self.maxiter = 1000#最大迭代次数,可修改\n",
    "    \n",
    "    def decode(self,sample):\n",
    "        \"\"\"\n",
    "            为某个个体解码的方法\n",
    "            将该个体的二进制码解码至实数\n",
    "            返回值是一个表示点坐标的列表\n",
    "            -------------------------\n",
    "            sample 为某个个体的二进制编码向量 type == np.ndarray\n",
    "        \"\"\"\n",
    "        str1,str2 = '','' #初始化两个空字符串\n",
    "        for i in range(len(sample)):\n",
    "            #遍历样本向量的每个元素\n",
    "            if i < self.len1:#当长度在第一个变量长度范围内时，送至str1\n",
    "                str1 += str(sample[i])\n",
    "            else:#否则送至str2\n",
    "                str2 += str(sample[i])\n",
    "                \n",
    "        decimal1 = int(str1,2)#二进制转十进制\n",
    "        decimal2 = int(str2,2)\n",
    "        #解码\n",
    "        x1 = self.a[0]+decimal1*(self.b[0]-self.a[0])/(2**self.len1-1) \n",
    "        x2 = self.a[1]+decimal2*(self.b[1]-self.a[1])/(2**self.len2-1)\n",
    "        return [x1,x2] #返回该点坐标列表\n",
    "    \n",
    "    def enviroment(self,x):\n",
    "        \"\"\"\n",
    "            环境函数，用于计算解码后的样本x的适应度值\n",
    "        \"\"\"\n",
    "        v = 21.5+x[0]*math.sin(4*math.pi*x[0])+x[1]*math.sin(20*math.pi*x[1])\n",
    "        return v\n",
    "        \n",
    "    def evaluation_for_gene(self,data):\n",
    "        \"\"\"\n",
    "            为给定的种群data评价其适应度，返回其适应度值的列表\n",
    "            data为二维0/1随机矩阵，代表某一种群，注意矩阵维度匹配\n",
    "        \"\"\"\n",
    "        eval_list = []#评价列表置空\n",
    "        for i in range(data.shape[0]):\n",
    "            #遍历种群中所有个体\n",
    "            x = self.decode(data[i])#解码\n",
    "            score = self.enviroment(x)#计算适应度\n",
    "            eval_list.append(score)#加入到列表\n",
    "        return eval_list\n",
    "    \n",
    "    def crossover(self):\n",
    "        \"\"\"\n",
    "            1-断点交叉操作，利用当前结构体中的population生成交叉后的子代children\n",
    "            返回值是子代的ndarray\n",
    "        \"\"\"\n",
    "        C = []#储存子代的空列表\n",
    "        for k in range(math.ceil(self.popsize/2)):\n",
    "            #最多有 种群数量 一半 个对可以交叉产生子代C\n",
    "            rand = random.random()#随机数\n",
    "            if self.pc >= rand:\n",
    "                #当随机数小于等于交叉概率时，进行交叉\n",
    "                #随机选择两个个体进行交叉\n",
    "                i = -1#初始化一个选择个体序号的指示器\n",
    "                j = -1\n",
    "                while i == j:\n",
    "                    i = random.randrange(0,self.popsize,1)#产生0~popsize-1的随机整数\n",
    "                    j = random.randrange(0,self.popsize,1)\n",
    "                \n",
    "                #随机选取断点位置\n",
    "                p = random.randrange(0,self.len1+self.len2,1)\n",
    "                \n",
    "                child0 = []#初始化空列表储存子代编码\n",
    "                child1 = []\n",
    "                \n",
    "                #进行交叉\n",
    "                for m in range(p):\n",
    "                    child0.append(self.population[i][m])\n",
    "                    child1.append(self.population[j][m])\n",
    "                n = p#指示器\n",
    "                while n<(self.len1+self.len2):\n",
    "                    child0.append(self.population[j][n])\n",
    "                    child1.append(self.population[i][n])\n",
    "                    n += 1\n",
    "                C.append(child0)#子代添加至列表\n",
    "                C.append(child1)\n",
    "        return np.array(C)\n",
    "    \n",
    "    def mutation(self):\n",
    "        \"\"\"\n",
    "            单点变异操作\n",
    "            返回值是变异子代群体的ndarray\n",
    "        \"\"\"\n",
    "        C = []#储存子代的空列表\n",
    "        for k in range(self.popsize):\n",
    "            #遍历所有个体\n",
    "            rand = random.random()#产生0~1之间的随机数\n",
    "            if self.pm >= rand:#若产生的随机数小于变异概率，进行变异\n",
    "                #随机选择变异位置\n",
    "                p = random.randrange(0,self.len1+self.len2,1)\n",
    "                child = []#子代列表置空\n",
    "                #进行变异操作\n",
    "                for i in range(self.len1+self.len2):\n",
    "                    if i!=p:#不是变异点位时\n",
    "                        child.append(self.population[k][i])\n",
    "                    else:#变异位置进行变异\n",
    "                        child.append(1-self.population[k][i])\n",
    "                C.append(child)\n",
    "        return np.array(C)\n",
    "    \n",
    "    def update_population_using_crossover_and_mutation(self):\n",
    "        \"\"\"\n",
    "            对种群进行交叉和变异，获取当前进行交叉和变异后的子代以及父代\n",
    "        \"\"\"\n",
    "        C_corssover = self.crossover()#获取当前种群交叉产生的子代\n",
    "        C_mutation = self.mutation()#获取当前种群变异产生的字代\n",
    "        if C_corssover.shape[0] != 0:\n",
    "            #交叉子代非空时，合并矩阵\n",
    "            self.population = np.concatenate((self.population,C_corssover),axis=0)\n",
    "        if C_mutation.shape[0] != 0:\n",
    "            #变异子代非空时，合并矩阵\n",
    "            self.population = np.concatenate((self.population,C_mutation),axis=0)\n",
    "        return self.population\n",
    "    \n",
    "    def roulette(self):\n",
    "        \"\"\"\n",
    "            轮盘赌对种群进行选择,更新种群\n",
    "        \"\"\"\n",
    "        self.update_population_using_crossover_and_mutation()#交叉变异更新种群\n",
    "        ##step1 计算群体的总适应度\n",
    "        eval_list = self.evaluation_for_gene(self.population)\n",
    "        summation = sum(eval_list)#总适应度\n",
    "        \n",
    "        ##step2 计算群体中染色体被选中的概率p\n",
    "\n",
    "        P = []#储存各个体被选中概率的空列表\n",
    "        for item in eval_list:\n",
    "            P.append(item/summation)#概率加入列表\n",
    "        \n",
    "        ##step3 计算群体中染色体的累计概率q\n",
    "        Q = []#累计概率列表\n",
    "        for i in range(len(P)):#遍历概率列表\n",
    "            q = 0#累加至这里\n",
    "            k = 0#计数器\n",
    "            while k <= i:\n",
    "                q += P[k]#累加\n",
    "                k += 1\n",
    "            Q.append(q)#加入列表\n",
    "        \n",
    "        ##step4 随机产生popsize个0~1之间的数\n",
    "        rand_vector = []#空随机数存储列表\n",
    "        for i in range(self.popsize):#产生popsize个0~1的随机数\n",
    "            rand = random.random()\n",
    "            rand_vector.append(rand)\n",
    "        \n",
    "        chosen_index = []#被选择出的个体的下标列表\n",
    "\n",
    "        for rand_number in rand_vector:#遍历所有随机数\n",
    "            for i in range(len(Q)):#遍历累计概率列表\n",
    "                if i == 0 and rand_number <= Q[i]:\n",
    "                    chosen_index.append(i)\n",
    "                elif rand_number > Q[i-1] and rand_number <= Q[i]:#比前面的大，比现在的小\n",
    "                    chosen_index.append(i)\n",
    "                    \n",
    "        ##step5 根据chosen_index更新种群矩阵\n",
    "        CHILDREN = []#子代列表\n",
    "        for index in chosen_index:#访问选中的下标\n",
    "            CHILDREN.append(self.population[index])\n",
    "        \n",
    "        CHILDREN = np.array(CHILDREN)#list-->ndarray\n",
    "        \n",
    "        self.population = CHILDREN#更新种群\n",
    "        \n",
    "        return CHILDREN\n",
    "    \n",
    "    def start_the_world(self):\n",
    "        \"\"\"\n",
    "            开启世界\n",
    "        \"\"\"\n",
    "        i = 0#迭代指示器\n",
    "        \n",
    "        MAX_VALUE = []#存储最大值的列表\n",
    "        GOODPOINTS = []#存储好点的列表\n",
    "        \n",
    "        while i!= self.maxiter:\n",
    "            self.roulette()#更新种群\n",
    "            \n",
    "            #获取评价列表\n",
    "            current_eval = self.evaluation_for_gene(self.population)\n",
    "            max_value = max(current_eval)#取最大值\n",
    "            \n",
    "            current_eval = np.array(current_eval)#list -->  ndarray\n",
    "            index = current_eval.argmax()#取最大值对应下标\n",
    "            #获取当前最佳个体\n",
    "            current_best_sample = self.population[index]\n",
    "            points = self.decode(current_best_sample)#解码\n",
    "            \n",
    "            MAX_VALUE.append(max_value)\n",
    "            GOODPOINTS.append(points)\n",
    "            \n",
    "            i += 1\n",
    "        \n",
    "        max_ = max(MAX_VALUE)#最大值\n",
    "        Max_value = np.array(MAX_VALUE)#list-->ndarray\n",
    "        best_index = Max_value.argmax()#取最大值下标\n",
    "        bestpt = GOODPOINTS[best_index]#最好点\n",
    "        print(f'运行完毕,最好点为{bestpt},最好值为{max_}')\n",
    "        \n",
    "        benchmark={'max_value':MAX_VALUE,'points':GOODPOINTS}\n",
    "        \n",
    "        return benchmark#返回一个字典，记录了历史最好记录\n",
    "    \n",
    "    def visualization(self):\n",
    "        result = self.start_the_world()#获取结果\n",
    "        Max_value = result['max_value']#获取历史最大值信息\n",
    "        index_list = np.arange(1,self.maxiter+1,1)#迭代次数\n",
    "        plt.plot(index_list,Max_value)\n",
    "        plt.grid()\n",
    "        plt.title('iteration versus funtion value')\n",
    "        plt.xlabel('generation')\n",
    "        plt.ylabel('function value')\n",
    "        plt.show()"
   ]
  },
  {
   "cell_type": "markdown",
   "metadata": {},
   "source": [
    "## 运行算法"
   ]
  },
  {
   "cell_type": "code",
   "execution_count": 5,
   "metadata": {
    "ExecuteTime": {
     "end_time": "2021-05-11T14:21:59.198725Z",
     "start_time": "2021-05-11T14:21:43.577322Z"
    }
   },
   "outputs": [
    {
     "name": "stdout",
     "output_type": "stream",
     "text": [
      "运行完毕,最好点为[11.621700821733867, 5.427950012016343],最好值为38.44668875086933\n"
     ]
    },
    {
     "data": {
      "image/png": "[encoded data removed]",
      "text/plain": [
       "<Figure size 432x288 with 1 Axes>"
      ]
     },
     "metadata": {
      "needs_background": "light"
     },
     "output_type": "display_data"
    }
   ],
   "source": [
    "module = GeneticAgorithm(len1,len2,0.25,0.01)\n",
    "#print(module.evaluation_for_gene(module.population))\n",
    "module.visualization()"
   ]
  }
 ],
 "metadata": {
  "kernelspec": {
   "display_name": "Python 3",
   "language": "python",
   "name": "python3"
  },
  "language_info": {
   "codemirror_mode": {
    "name": "ipython",
    "version": 3
   },
   "file_extension": ".py",
   "mimetype": "text/x-python",
   "name": "python",
   "nbconvert_exporter": "python",
   "pygments_lexer": "ipython3",
   "version": "3.7.10"
  }
 },
 "nbformat": 4,
 "nbformat_minor": 2
}
